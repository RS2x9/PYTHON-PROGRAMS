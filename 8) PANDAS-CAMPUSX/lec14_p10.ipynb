{
 "cells": [
  {
   "cell_type": "markdown",
   "id": "0bef9146",
   "metadata": {},
   "source": [
    "merge function"
   ]
  },
  {
   "cell_type": "markdown",
   "id": "103ad1b6",
   "metadata": {},
   "source": [
    "fetch the orange cap holder :\n",
    "man who has scored the highest in any particular IPL seasons\n",
    "\n",
    "--> so in each season , best batsman is to be find out "
   ]
  },
  {
   "cell_type": "code",
   "execution_count": null,
   "id": "3a10e6e2",
   "metadata": {},
   "outputs": [],
   "source": [
    "import pandas as pd \n",
    "match= pd.read_csv(r\"C:\\Users\\RISHABH\\Downloads\\matches - matches.csv\")  \n",
    "# in this dataset batsman coloumn details are not given \n",
    "match.head()"
   ]
  },
  {
   "cell_type": "code",
   "execution_count": null,
   "id": "6ebb2f64",
   "metadata": {},
   "outputs": [],
   "source": [
    "delivery = pd.read_csv(r\"D:\\delivery-matches\\deliveries.csv\")     \n",
    "# in this dataset season coloumn is not there \n",
    "delivery.head()\n"
   ]
  },
  {
   "cell_type": "markdown",
   "id": "e6792981",
   "metadata": {},
   "source": [
    "so there is need to merge two dataframes.\n",
    "\n",
    "criteria : there should be atleast one coloumn matching to both the datasets "
   ]
  },
  {
   "cell_type": "markdown",
   "id": "c77f6a29",
   "metadata": {},
   "source": [
    "in the first dataset set \"id\" coloumn is there.\n",
    "\n",
    "in second dataset \"match_id\" coloumn is there "
   ]
  },
  {
   "cell_type": "code",
   "execution_count": null,
   "id": "612c736c",
   "metadata": {},
   "outputs": [],
   "source": [
    "combined = delivery.merge(match , left_on ='match_id' , right_on ='id')\n",
    "\n",
    "'''\n",
    "    --> left_on is for delivery dataset\n",
    "    --> right_on is for match dataset\n",
    "    --> only those match id's will be considered which are in both the datframes \n",
    "'''\n",
    "combined "
   ]
  },
  {
   "cell_type": "code",
   "execution_count": null,
   "id": "fb143757",
   "metadata": {},
   "outputs": [],
   "source": [
    "print(match.shape)\n",
    "print(delivery.shape)\n",
    "print(combined.shape)"
   ]
  },
  {
   "cell_type": "markdown",
   "id": "1417649c",
   "metadata": {},
   "source": [
    "now we want season wise and batsman wise data , so use groupby on both"
   ]
  },
  {
   "cell_type": "code",
   "execution_count": null,
   "id": "81c5bb96",
   "metadata": {},
   "outputs": [],
   "source": [
    "x = combined.groupby( ['season' , 'batsman'])['batsman_runs'].sum()\n",
    "print(x )       # type(x) = pandas series \n",
    "'''\n",
    "    --> the rightmost coloumn is value\n",
    "    --> the left two coloumns are indexes\n",
    "    --> this type of series : multi index series\n",
    "'''\n"
   ]
  },
  {
   "cell_type": "markdown",
   "id": "8d1dccab",
   "metadata": {},
   "source": [
    "converting this to dataframe : reset_index()"
   ]
  },
  {
   "cell_type": "code",
   "execution_count": null,
   "id": "5f374b93",
   "metadata": {},
   "outputs": [],
   "source": [
    "y= x.sort_values(ascending= False).reset_index()\n",
    "y"
   ]
  },
  {
   "cell_type": "code",
   "execution_count": null,
   "id": "9c07b8ad",
   "metadata": {},
   "outputs": [],
   "source": [
    "z= y.groupby('season').first()\n",
    "z"
   ]
  },
  {
   "cell_type": "code",
   "execution_count": null,
   "id": "42c34def",
   "metadata": {},
   "outputs": [],
   "source": [
    "z.reset_index()[[ 'season' , 'batsman']]"
   ]
  }
 ],
 "metadata": {
  "kernelspec": {
   "display_name": "campusx",
   "language": "python",
   "name": "python3"
  },
  "language_info": {
   "codemirror_mode": {
    "name": "ipython",
    "version": 3
   },
   "file_extension": ".py",
   "mimetype": "text/x-python",
   "name": "python",
   "nbconvert_exporter": "python",
   "pygments_lexer": "ipython3",
   "version": "3.13.7"
  }
 },
 "nbformat": 4,
 "nbformat_minor": 5
}
