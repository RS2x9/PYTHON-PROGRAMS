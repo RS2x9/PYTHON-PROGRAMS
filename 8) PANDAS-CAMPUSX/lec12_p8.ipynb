{
 "cells": [
  {
   "cell_type": "code",
   "execution_count": null,
   "id": "6d183a3f",
   "metadata": {},
   "outputs": [],
   "source": [
    "import pandas as pd \n",
    "data = pd.read_csv(r\"D:\\delivery-matches\\deliveries.csv\")\n",
    "data.head()"
   ]
  },
  {
   "cell_type": "markdown",
   "id": "3f310c10",
   "metadata": {},
   "source": [
    "in 10 seasons , list the 5 batsman who has scored the highest\n",
    "\n",
    "solution:\n",
    "\n",
    "--> each row is 1 ball played by batsman\n",
    "\n",
    "--> so we have to take the sum of all the runs scored \n",
    "\n",
    "--> for that we have ti group the batsman and then apply sum()\n",
    "\n",
    "--> then sort the values and fetch the 10 highest scoreres"
   ]
  },
  {
   "cell_type": "code",
   "execution_count": null,
   "id": "020a2246",
   "metadata": {},
   "outputs": [],
   "source": [
    "x= data.groupby('batsman')['batsman_runs'].sum()\n",
    "y= x.sort_values(ascending= False).head(10)\n",
    "y"
   ]
  },
  {
   "cell_type": "markdown",
   "id": "f9792c29",
   "metadata": {},
   "source": [
    "find the batsman who has scored the most 4's in 10 years \n",
    "\n",
    "--> masking is used"
   ]
  },
  {
   "cell_type": "code",
   "execution_count": null,
   "id": "973813ce",
   "metadata": {},
   "outputs": [],
   "source": [
    "mask = data['batsman_runs']==4\n",
    "fours = data[mask]\n",
    "fours"
   ]
  },
  {
   "cell_type": "code",
   "execution_count": null,
   "id": "f9f43626",
   "metadata": {},
   "outputs": [],
   "source": [
    "x= fours.groupby('batsman').size()\n",
    "# size() : gives the total number of rows in x \n",
    "y=  x.sort_values(ascending = False).head(10)\n",
    "print(\" Total 4's scored by top 10 batsman in 10 yearss:  \\n\")\n",
    "y"
   ]
  },
  {
   "cell_type": "code",
   "execution_count": null,
   "id": "d07e991d",
   "metadata": {},
   "outputs": [],
   "source": [
    "print (\" max 4's scored by : \\n\" , y.head(1))"
   ]
  },
  {
   "cell_type": "markdown",
   "id": "142ce530",
   "metadata": {},
   "source": [
    "find that VK has beat the max. runs against which team"
   ]
  },
  {
   "cell_type": "code",
   "execution_count": null,
   "id": "53465f89",
   "metadata": {},
   "outputs": [],
   "source": [
    "mask = data['batsman']== 'V Kohli'\n",
    "x= data[mask].groupby('bowling_team')['batsman_runs'].sum()\n",
    "y= x.sort_values(ascending = False)\n",
    "y"
   ]
  },
  {
   "cell_type": "markdown",
   "id": "613f1076",
   "metadata": {},
   "source": [
    "make a function which takes the batsman name and output against which teams the batsman has \n",
    "\n",
    "scored the most"
   ]
  },
  {
   "cell_type": "code",
   "execution_count": null,
   "id": "3e307bb7",
   "metadata": {},
   "outputs": [],
   "source": [
    "def batsman_score(batm):\n",
    "    mask = data['batsman']== batm\n",
    "    x= data[mask].groupby('bowling_team')['batsman_runs'].sum()\n",
    "    y= x.sort_values(ascending = False)\n",
    "    print(y)"
   ]
  },
  {
   "cell_type": "code",
   "execution_count": null,
   "id": "ca9483d4",
   "metadata": {},
   "outputs": [],
   "source": [
    "batm = input(\"batsman max scores against teams: \")\n",
    "batsman_score(batm)"
   ]
  }
 ],
 "metadata": {
  "kernelspec": {
   "display_name": "campusx",
   "language": "python",
   "name": "python3"
  },
  "language_info": {
   "codemirror_mode": {
    "name": "ipython",
    "version": 3
   },
   "file_extension": ".py",
   "mimetype": "text/x-python",
   "name": "python",
   "nbconvert_exporter": "python",
   "pygments_lexer": "ipython3",
   "version": "3.13.7"
  }
 },
 "nbformat": 4,
 "nbformat_minor": 5
}
