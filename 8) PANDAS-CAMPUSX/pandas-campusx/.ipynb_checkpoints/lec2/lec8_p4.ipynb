{
 "cells": [
  {
   "cell_type": "markdown",
   "id": "96af3ab1",
   "metadata": {},
   "source": [
    "Lec-8: series operation"
   ]
  },
  {
   "cell_type": "code",
   "execution_count": null,
   "id": "f5df78a9",
   "metadata": {},
   "outputs": [],
   "source": [
    "import pandas as pd\n",
    "data= pd.read_csv(r\"C:\\Users\\RISHABH\\Downloads\\matches - matches.csv\")\n",
    "print(data)"
   ]
  },
  {
   "cell_type": "markdown",
   "id": "cdb5e265",
   "metadata": {},
   "source": [
    "Series has two parts :\n",
    "\n",
    "        --> index : all are unique \n",
    "\n",
    "        --> values : can be same "
   ]
  },
  {
   "cell_type": "code",
   "execution_count": 2,
   "id": "f95650fb",
   "metadata": {},
   "outputs": [
    {
     "name": "stdout",
     "output_type": "stream",
     "text": [
      "winner\n",
      "Mumbai Indians                 92\n",
      "Chennai Super Kings            79\n",
      "Kolkata Knight Riders          77\n",
      "Royal Challengers Bangalore    73\n",
      "Kings XI Punjab                70\n",
      "Rajasthan Royals               63\n",
      "Delhi Daredevils               62\n",
      "Sunrisers Hyderabad            42\n",
      "Deccan Chargers                29\n",
      "Gujarat Lions                  13\n",
      "Pune Warriors                  12\n",
      "Rising Pune Supergiant         10\n",
      "Kochi Tuskers Kerala            6\n",
      "Rising Pune Supergiants         5\n",
      "Name: count, dtype: int64\n"
     ]
    }
   ],
   "source": [
    "x= data['winner'].value_counts()\n",
    "print(x)     # datatype : series "
   ]
  },
  {
   "cell_type": "markdown",
   "id": "3b8d8943",
   "metadata": {},
   "source": [
    "index and its values "
   ]
  },
  {
   "cell_type": "code",
   "execution_count": null,
   "id": "59171fc0",
   "metadata": {},
   "outputs": [],
   "source": [
    "#  to find index\n",
    "print(\"index: \" , x.index , \"\\n\")\n",
    "print(\" values : \" , x.values)"
   ]
  },
  {
   "cell_type": "markdown",
   "id": "dae2e284",
   "metadata": {},
   "source": [
    "fetching values of index"
   ]
  },
  {
   "cell_type": "code",
   "execution_count": null,
   "id": "c27eab3a",
   "metadata": {},
   "outputs": [],
   "source": [
    "print(\" mumbai Indians wons : \" , x[\"Mumbai Indians\"])"
   ]
  },
  {
   "cell_type": "code",
   "execution_count": null,
   "id": "7b2339b9",
   "metadata": {},
   "outputs": [],
   "source": [
    "print(data['team1'].value_counts() , \"\\n\")\n",
    "print(data['team2'].value_counts() , \"\\n\")\n",
    "y= data['team1'].value_counts() + data['team2'].value_counts()  # corresponding count adds\n",
    "print(y)"
   ]
  }
 ],
 "metadata": {
  "kernelspec": {
   "display_name": "campusx",
   "language": "python",
   "name": "python3"
  },
  "language_info": {
   "codemirror_mode": {
    "name": "ipython",
    "version": 3
   },
   "file_extension": ".py",
   "mimetype": "text/x-python",
   "name": "python",
   "nbconvert_exporter": "python",
   "pygments_lexer": "ipython3",
   "version": "3.13.7"
  }
 },
 "nbformat": 4,
 "nbformat_minor": 5
}
