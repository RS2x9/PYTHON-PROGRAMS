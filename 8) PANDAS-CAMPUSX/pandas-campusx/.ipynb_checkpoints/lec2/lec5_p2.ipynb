{
 "cells": [
  {
   "cell_type": "code",
   "execution_count": null,
   "id": "d93d92af",
   "metadata": {},
   "outputs": [],
   "source": [
    "#import numpy as np\n",
    "import pandas as pd \n",
    "# import string \n",
    "data = pd.read_csv(r\"C:\\Users\\RISHABH\\Downloads\\matches - matches.csv\")\n",
    "print(data)"
   ]
  },
  {
   "cell_type": "markdown",
   "id": "8d113da9",
   "metadata": {},
   "source": [
    "Masking : Fetching some specific materials "
   ]
  },
  {
   "cell_type": "code",
   "execution_count": null,
   "id": "f7937e54",
   "metadata": {},
   "outputs": [],
   "source": [
    "# eg: fetching data of city : Hyderabad\n",
    "mask= data['city'].str.lower() == 'hyderabad'\n",
    "'''\n",
    "    --> All values in the mask are printing False because of case sensitivity in string comparison\n",
    "    --> If the actual values in the 'city' column are 'Hyderabad' (with a capital 'H'), the comparison \n",
    "        will fail for all rows, resulting in all False .as_integer_ratio\n",
    "    --> Convert both sides to lowercase for comparison .\n",
    "'''\n",
    "print(mask)  \n",
    "print(\"\\n datatype : boolean series \" , type(mask))"
   ]
  },
  {
   "cell_type": "code",
   "execution_count": null,
   "id": "96f1b94e",
   "metadata": {},
   "outputs": [],
   "source": [
    "# doing masking now \n",
    "print ( data[mask])     # we are putting entire data on mask , this will fetch only True ones "
   ]
  },
  {
   "cell_type": "markdown",
   "id": "c302c28b",
   "metadata": {},
   "source": [
    "Number of matches in Hyderabad "
   ]
  },
  {
   "cell_type": "code",
   "execution_count": null,
   "id": "b7e8079b",
   "metadata": {},
   "outputs": [],
   "source": [
    "print(\"total number of matches in hyderabad :\", data[mask].shape[0])"
   ]
  },
  {
   "cell_type": "markdown",
   "id": "64b361ac",
   "metadata": {},
   "source": [
    "making general () to count the particular city matches"
   ]
  },
  {
   "cell_type": "code",
   "execution_count": null,
   "id": "93016b46",
   "metadata": {},
   "outputs": [],
   "source": [
    "def city_match_count(city):\n",
    "    mask2 = data['city'] == city    #don't  give str.lower()\n",
    "    return data[mask2].shape[0]\n",
    "\n",
    "city = input(\"Enter city name to get  it's count:\")\n",
    "print(\"\\n number of matches : \" , city_match_count(city))"
   ]
  },
  {
   "cell_type": "markdown",
   "id": "8d0bdbac",
   "metadata": {},
   "source": [
    "matches in Hyderabad after 2010"
   ]
  },
  {
   "cell_type": "code",
   "execution_count": null,
   "id": "8d0266ba",
   "metadata": {},
   "outputs": [],
   "source": [
    "# so we have to create two sepaerate masks \n",
    "mask3 = data['city'] == 'Hyderabad'     # stores boolean values \n",
    "mask4 = data['date'] > '2010-01-01'     # stores boolean values\n",
    "x= data[mask3 & mask4]      # bitwise & is used for boolean stuffs\n",
    "print(x)\n",
    "print(\"\\n total matches after 2010 in hyderabad: \" , x.shape[0])"
   ]
  },
  {
   "cell_type": "markdown",
   "id": "d35f1c86",
   "metadata": {},
   "source": [
    "Lec6: The value_counts() : gives frequency count in the coloumn.\n",
    "\n",
    "--> only applicable on categorical data \n",
    "\n",
    "--> There are two main types of data: \n",
    "\n",
    "        --> Numerical data: refers to numbers.\n",
    "            --> eg: id coloumn \n",
    "\n",
    "        --> categorical:   Categorical data is everything else. \n",
    "    \n",
    "            --> Categorical data is non-numerical information that is divided into groups\n",
    "            --> eg: date coloumn"
   ]
  },
  {
   "cell_type": "code",
   "execution_count": null,
   "id": "eb3659e0",
   "metadata": {},
   "outputs": [],
   "source": [
    "x= data['winner'].value_counts()\n",
    "print(x)"
   ]
  }
 ],
 "metadata": {
  "kernelspec": {
   "display_name": "campusx",
   "language": "python",
   "name": "python3"
  },
  "language_info": {
   "codemirror_mode": {
    "name": "ipython",
    "version": 3
   },
   "file_extension": ".py",
   "mimetype": "text/x-python",
   "name": "python",
   "nbconvert_exporter": "python",
   "pygments_lexer": "ipython3",
   "version": "3.13.7"
  }
 },
 "nbformat": 4,
 "nbformat_minor": 5
}
