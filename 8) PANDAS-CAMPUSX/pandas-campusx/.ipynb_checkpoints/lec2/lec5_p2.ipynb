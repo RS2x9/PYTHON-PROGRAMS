{
 "cells": [
  {
   "cell_type": "code",
   "execution_count": 1,
   "id": "d93d92af",
   "metadata": {},
   "outputs": [
    {
     "name": "stdout",
     "output_type": "stream",
     "text": [
      "      id  season       city       date                        team1  \\\n",
      "0      1    2017  Hyderabad   4/5/2017          Sunrisers Hyderabad   \n",
      "1      2    2017       Pune   4/6/2017               Mumbai Indians   \n",
      "2      3    2017     Rajkot   4/7/2017                Gujarat Lions   \n",
      "3      4    2017     Indore   4/8/2017       Rising Pune Supergiant   \n",
      "4      5    2017  Bangalore   4/8/2017  Royal Challengers Bangalore   \n",
      "..   ...     ...        ...        ...                          ...   \n",
      "631  632    2016     Raipur  5/22/2016             Delhi Daredevils   \n",
      "632  633    2016  Bangalore  5/24/2016                Gujarat Lions   \n",
      "633  634    2016      Delhi  5/25/2016          Sunrisers Hyderabad   \n",
      "634  635    2016      Delhi  5/27/2016                Gujarat Lions   \n",
      "635  636    2016  Bangalore  5/29/2016          Sunrisers Hyderabad   \n",
      "\n",
      "                           team2                  toss_winner toss_decision  \\\n",
      "0    Royal Challengers Bangalore  Royal Challengers Bangalore         field   \n",
      "1         Rising Pune Supergiant       Rising Pune Supergiant         field   \n",
      "2          Kolkata Knight Riders        Kolkata Knight Riders         field   \n",
      "3                Kings XI Punjab              Kings XI Punjab         field   \n",
      "4               Delhi Daredevils  Royal Challengers Bangalore           bat   \n",
      "..                           ...                          ...           ...   \n",
      "631  Royal Challengers Bangalore  Royal Challengers Bangalore         field   \n",
      "632  Royal Challengers Bangalore  Royal Challengers Bangalore         field   \n",
      "633        Kolkata Knight Riders        Kolkata Knight Riders         field   \n",
      "634          Sunrisers Hyderabad          Sunrisers Hyderabad         field   \n",
      "635  Royal Challengers Bangalore          Sunrisers Hyderabad           bat   \n",
      "\n",
      "     result  dl_applied                       winner  win_by_runs  \\\n",
      "0    normal           0          Sunrisers Hyderabad           35   \n",
      "1    normal           0       Rising Pune Supergiant            0   \n",
      "2    normal           0        Kolkata Knight Riders            0   \n",
      "3    normal           0              Kings XI Punjab            0   \n",
      "4    normal           0  Royal Challengers Bangalore           15   \n",
      "..      ...         ...                          ...          ...   \n",
      "631  normal           0  Royal Challengers Bangalore            0   \n",
      "632  normal           0  Royal Challengers Bangalore            0   \n",
      "633  normal           0          Sunrisers Hyderabad           22   \n",
      "634  normal           0          Sunrisers Hyderabad            0   \n",
      "635  normal           0          Sunrisers Hyderabad            8   \n",
      "\n",
      "     win_by_wickets player_of_match  \\\n",
      "0                 0    Yuvraj Singh   \n",
      "1                 7       SPD Smith   \n",
      "2                10         CA Lynn   \n",
      "3                 6      GJ Maxwell   \n",
      "4                 0       KM Jadhav   \n",
      "..              ...             ...   \n",
      "631               6         V Kohli   \n",
      "632               4  AB de Villiers   \n",
      "633               0    MC Henriques   \n",
      "634               4       DA Warner   \n",
      "635               0     BCJ Cutting   \n",
      "\n",
      "                                                venue          umpire1  \\\n",
      "0           Rajiv Gandhi International Stadium, Uppal      AY Dandekar   \n",
      "1             Maharashtra Cricket Association Stadium   A Nand Kishore   \n",
      "2              Saurashtra Cricket Association Stadium      Nitin Menon   \n",
      "3                              Holkar Cricket Stadium     AK Chaudhary   \n",
      "4                               M Chinnaswamy Stadium              NaN   \n",
      "..                                                ...              ...   \n",
      "631  Shaheed Veer Narayan Singh International Stadium   A Nand Kishore   \n",
      "632                             M Chinnaswamy Stadium     AK Chaudhary   \n",
      "633                                  Feroz Shah Kotla        M Erasmus   \n",
      "634                                  Feroz Shah Kotla        M Erasmus   \n",
      "635                             M Chinnaswamy Stadium  HDPK Dharmasena   \n",
      "\n",
      "             umpire2  umpire3  \n",
      "0           NJ Llong      NaN  \n",
      "1             S Ravi      NaN  \n",
      "2          CK Nandan      NaN  \n",
      "3      C Shamshuddin      NaN  \n",
      "4                NaN      NaN  \n",
      "..               ...      ...  \n",
      "631     BNJ Oxenford      NaN  \n",
      "632  HDPK Dharmasena      NaN  \n",
      "633    C Shamshuddin      NaN  \n",
      "634        CK Nandan      NaN  \n",
      "635     BNJ Oxenford      NaN  \n",
      "\n",
      "[636 rows x 18 columns]\n"
     ]
    }
   ],
   "source": [
    "#import numpy as np\n",
    "import pandas as pd \n",
    "# import string \n",
    "data = pd.read_csv(r\"C:\\Users\\RISHABH\\Downloads\\matches - matches.csv\")\n",
    "print(data)"
   ]
  },
  {
   "cell_type": "markdown",
   "id": "8d113da9",
   "metadata": {},
   "source": [
    "Masking : Fetching some specific materials "
   ]
  },
  {
   "cell_type": "code",
   "execution_count": null,
   "id": "f7937e54",
   "metadata": {},
   "outputs": [],
   "source": [
    "# eg: fetching data of city : Hyderabad\n",
    "mask= data['city'].str.lower() == 'hyderabad'\n",
    "'''\n",
    "    --> All values in the mask are printing False because of case sensitivity in string comparison\n",
    "    --> If the actual values in the 'city' column are 'Hyderabad' (with a capital 'H'), the comparison \n",
    "        will fail for all rows, resulting in all False .as_integer_ratio\n",
    "    --> Convert both sides to lowercase for comparison .\n",
    "'''\n",
    "print(mask)  \n",
    "print(\"\\n datatype : boolean series \" , type(mask))"
   ]
  },
  {
   "cell_type": "code",
   "execution_count": null,
   "id": "96f1b94e",
   "metadata": {},
   "outputs": [],
   "source": [
    "# doing masking now \n",
    "print ( data[mask])     # we are putting entire data on mask , this will fetch only True ones "
   ]
  },
  {
   "cell_type": "markdown",
   "id": "c302c28b",
   "metadata": {},
   "source": [
    "Number of matches in Hyderabad "
   ]
  },
  {
   "cell_type": "code",
   "execution_count": null,
   "id": "b7e8079b",
   "metadata": {},
   "outputs": [],
   "source": [
    "print(\"total number of matches in hyderabad :\", data[mask].shape[0])"
   ]
  },
  {
   "cell_type": "markdown",
   "id": "64b361ac",
   "metadata": {},
   "source": [
    "making general () to count the particular city matches"
   ]
  },
  {
   "cell_type": "code",
   "execution_count": null,
   "id": "93016b46",
   "metadata": {},
   "outputs": [],
   "source": [
    "def city_match_count(city):\n",
    "    mask2 = data['city'] == city    #don't  give str.lower()\n",
    "    return data[mask2].shape[0]\n",
    "\n",
    "city = input(\"Enter city name to get  it's count:\")\n",
    "print(\"\\n number of matches : \" , city_match_count(city))"
   ]
  },
  {
   "cell_type": "markdown",
   "id": "8d0bdbac",
   "metadata": {},
   "source": [
    "matches in Hyderabad after 2010"
   ]
  },
  {
   "cell_type": "code",
   "execution_count": null,
   "id": "8d0266ba",
   "metadata": {},
   "outputs": [],
   "source": [
    "# so we have to create two sepaerate masks \n",
    "mask3 = data['city'] == 'Hyderabad'     # stores boolean values \n",
    "mask4 = data['date'] > '2010-01-01'     # stores boolean values\n",
    "x= data[mask3 & mask4]      # bitwise & is used for boolean stuffs\n",
    "print(x)\n",
    "print(\"\\n total matches after 2010 in hyderabad: \" , x.shape[0])"
   ]
  },
  {
   "cell_type": "markdown",
   "id": "d35f1c86",
   "metadata": {},
   "source": [
    "Lec6: The value_counts() : gives frequency count in the coloumn.\n",
    "\n",
    "--> only applicable on categorical data \n",
    "\n",
    "--> There are two main types of data: \n",
    "\n",
    "        --> Numerical data: refers to numbers.\n",
    "            --> eg: id coloumn \n",
    "\n",
    "        --> categorical:   Categorical data is everything else. \n",
    "    \n",
    "            --> Categorical data is non-numerical information that is divided into groups\n",
    "            --> eg: date coloumn"
   ]
  },
  {
   "cell_type": "code",
   "execution_count": null,
   "id": "eb3659e0",
   "metadata": {},
   "outputs": [],
   "source": [
    "x= data['winner'].value_counts()\n",
    "print(x)"
   ]
  }
 ],
 "metadata": {
  "kernelspec": {
   "display_name": "campusx",
   "language": "python",
   "name": "python3"
  },
  "language_info": {
   "codemirror_mode": {
    "name": "ipython",
    "version": 3
   },
   "file_extension": ".py",
   "mimetype": "text/x-python",
   "name": "python",
   "nbconvert_exporter": "python",
   "pygments_lexer": "ipython3",
   "version": "3.13.7"
  }
 },
 "nbformat": 4,
 "nbformat_minor": 5
}
