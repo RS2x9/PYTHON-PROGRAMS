{
 "cells": [
  {
   "cell_type": "markdown",
   "id": "a3c40d6b",
   "metadata": {},
   "source": [
    "Lec10: drop_duplicates()"
   ]
  },
  {
   "cell_type": "code",
   "execution_count": null,
   "id": "aaa2225e",
   "metadata": {},
   "outputs": [],
   "source": [
    "import pandas as pd\n",
    "data =pd.read_csv(r\"C:\\Users\\RISHABH\\Downloads\\matches - matches.csv\")"
   ]
  },
  {
   "cell_type": "markdown",
   "id": "805d5da8",
   "metadata": {},
   "source": [
    "drop_duplicates():\n",
    "\n",
    "    --> removes the duplicate data"
   ]
  },
  {
   "cell_type": "markdown",
   "id": "06d5f37e",
   "metadata": {},
   "source": [
    "perfrom this on city coloumn .\n",
    "\n",
    "it will make the entire city coloumn unique"
   ]
  },
  {
   "cell_type": "code",
   "execution_count": null,
   "id": "81cac26a",
   "metadata": {},
   "outputs": [],
   "source": [
    "x= data.drop_duplicates( subset=['city'])\n",
    "print(x)\n",
    "print(\"\\n\\n unique cities in which IPL is played  : \", x.shape[0])"
   ]
  },
  {
   "cell_type": "markdown",
   "id": "55607d61",
   "metadata": {},
   "source": [
    "--> here for every city , it has kept the first occurence of each city\n",
    "\n",
    "--> the first occurence can be deleted keeping the last occurence using keep keyword"
   ]
  },
  {
   "cell_type": "code",
   "execution_count": null,
   "id": "6bfe41e0",
   "metadata": {},
   "outputs": [],
   "source": [
    "print(data.drop_duplicates( subset=['city'] , keep= 'last').sort_values('city'))   # bydefault: keep='first\n",
    "# sorting done for better view "
   ]
  },
  {
   "cell_type": "markdown",
   "id": "d561b9c5",
   "metadata": {},
   "source": [
    "applying on multiple coloumns \n",
    "\n",
    "keep : it can't be applied to multiple coloumns\n",
    "    \n",
    "        --> it can be either \"first\" or \"last\" for the entire subset "
   ]
  },
  {
   "cell_type": "code",
   "execution_count": null,
   "id": "e57e3ae2",
   "metadata": {},
   "outputs": [],
   "source": [
    "y= data.drop_duplicates( subset= ['city' , 'season']).sort_values('city')\n",
    "print(y)\n",
    "# sorting done for better view \n",
    "# some citis are repeated bacuse they have unique season\n",
    "print(\"\\n\\n total rows :\" , y.shape[0])"
   ]
  },
  {
   "cell_type": "markdown",
   "id": "43d09aee",
   "metadata": {},
   "source": [
    "the lst match of every season is the final match"
   ]
  },
  {
   "cell_type": "code",
   "execution_count": null,
   "id": "74d7cdfd",
   "metadata": {},
   "outputs": [],
   "source": [
    "y= data.drop_duplicates('season' , keep='last')\n",
    "print(y)\n",
    "print(\"\\n\\n total : \" , y.shape[0])"
   ]
  },
  {
   "cell_type": "markdown",
   "id": "d3251cb4",
   "metadata": {},
   "source": [
    "for the above(just above) i want only season and winner , team1 , team 2 coloumn"
   ]
  },
  {
   "cell_type": "code",
   "execution_count": null,
   "id": "7fbf008c",
   "metadata": {},
   "outputs": [],
   "source": [
    "y= data.drop_duplicates('season' , keep='last')[ ['season' , 'team1', 'team2', 'winner']].sort_values('season')\n",
    "print(y)"
   ]
  }
 ],
 "metadata": {
  "kernelspec": {
   "display_name": "campusx",
   "language": "python",
   "name": "python3"
  },
  "language_info": {
   "codemirror_mode": {
    "name": "ipython",
    "version": 3
   },
   "file_extension": ".py",
   "mimetype": "text/x-python",
   "name": "python",
   "nbconvert_exporter": "python",
   "pygments_lexer": "ipython3",
   "version": "3.13.7"
  }
 },
 "nbformat": 4,
 "nbformat_minor": 5
}
