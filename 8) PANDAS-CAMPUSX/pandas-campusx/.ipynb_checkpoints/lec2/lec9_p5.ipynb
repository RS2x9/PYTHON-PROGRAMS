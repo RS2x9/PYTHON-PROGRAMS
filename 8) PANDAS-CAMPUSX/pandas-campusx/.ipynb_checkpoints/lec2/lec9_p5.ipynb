{
 "cells": [
  {
   "cell_type": "markdown",
   "id": "42c7b9fb",
   "metadata": {},
   "source": [
    "sort_values():\n",
    "\n",
    "        --> used on both series and dataframes "
   ]
  },
  {
   "cell_type": "code",
   "execution_count": null,
   "id": "148586a4",
   "metadata": {},
   "outputs": [],
   "source": [
    "import pandas as pd \n",
    "data = pd.read_csv(r\"C:\\Users\\RISHABH\\Downloads\\matches - matches.csv\")\n",
    "print(data)"
   ]
  },
  {
   "cell_type": "markdown",
   "id": "a7380ef4",
   "metadata": {},
   "source": [
    "counting the frequeny"
   ]
  },
  {
   "cell_type": "code",
   "execution_count": null,
   "id": "77be7ac9",
   "metadata": {},
   "outputs": [],
   "source": [
    "x= data['winner'].value_counts()\n",
    "print(x)        # this is not in ascending order "
   ]
  },
  {
   "cell_type": "markdown",
   "id": "d329da50",
   "metadata": {},
   "source": [
    "sorting in ascending order (by default)"
   ]
  },
  {
   "cell_type": "code",
   "execution_count": null,
   "id": "1ac77450",
   "metadata": {},
   "outputs": [],
   "source": [
    "y=x.sort_values()\n",
    "print(y)"
   ]
  },
  {
   "cell_type": "markdown",
   "id": "97e38c4a",
   "metadata": {},
   "source": [
    "fetching first 5 teams "
   ]
  },
  {
   "cell_type": "code",
   "execution_count": null,
   "id": "fd451fba",
   "metadata": {},
   "outputs": [],
   "source": [
    "print(data['winner'].value_counts().sort_values().head())"
   ]
  },
  {
   "cell_type": "markdown",
   "id": "7417ce5e",
   "metadata": {},
   "source": [
    "fetching last five teams "
   ]
  },
  {
   "cell_type": "code",
   "execution_count": null,
   "id": "b1ac5af7",
   "metadata": {},
   "outputs": [],
   "source": [
    "print(data['winner'].value_counts().sort_values().tail())"
   ]
  },
  {
   "cell_type": "markdown",
   "id": "c4df891d",
   "metadata": {},
   "source": [
    "printing in reverse order"
   ]
  },
  {
   "cell_type": "code",
   "execution_count": null,
   "id": "ed423aa0",
   "metadata": {},
   "outputs": [],
   "source": [
    "print(data['winner'].value_counts().sort_values(ascending=False))"
   ]
  },
  {
   "cell_type": "markdown",
   "id": "52ff9cf2",
   "metadata": {},
   "source": [
    "fetching first five teams "
   ]
  },
  {
   "cell_type": "code",
   "execution_count": null,
   "id": "07f1898d",
   "metadata": {},
   "outputs": [],
   "source": [
    "print(data['winner'].value_counts().sort_values(ascending=False).head())"
   ]
  },
  {
   "cell_type": "markdown",
   "id": "8ddfccfe",
   "metadata": {},
   "source": [
    "fetching last five teams "
   ]
  },
  {
   "cell_type": "code",
   "execution_count": null,
   "id": "b8c3788f",
   "metadata": {},
   "outputs": [],
   "source": [
    "print(data['winner'].value_counts().sort_values(ascending=False).tail())"
   ]
  },
  {
   "cell_type": "markdown",
   "id": "6d7d824d",
   "metadata": {},
   "source": [
    "sorting on dataframes "
   ]
  },
  {
   "cell_type": "code",
   "execution_count": null,
   "id": "fc442f45",
   "metadata": {},
   "outputs": [],
   "source": [
    "print(data.sort_values('city'))"
   ]
  },
  {
   "cell_type": "markdown",
   "id": "c2e183bf",
   "metadata": {},
   "source": [
    "sorting dataframes in descending order "
   ]
  },
  {
   "cell_type": "code",
   "execution_count": null,
   "id": "02b619d5",
   "metadata": {},
   "outputs": [],
   "source": [
    "print(data.sort_values('city', ascending=False))"
   ]
  },
  {
   "cell_type": "markdown",
   "id": "c5bac873",
   "metadata": {},
   "source": [
    "--> these operations won't make changes in \"data\".\n",
    "\n",
    "--> to permanantly change the data use : inplace =True\n",
    "\n",
    "--> defalut value of inplace is False\n",
    "\n",
    "--> eg: data.sort_values(inplace=True)"
   ]
  },
  {
   "cell_type": "markdown",
   "id": "a7500817",
   "metadata": {},
   "source": [
    "sorting for two coloumns "
   ]
  },
  {
   "cell_type": "code",
   "execution_count": null,
   "id": "df42b398",
   "metadata": {},
   "outputs": [],
   "source": [
    "print(data.sort_values( ['city' , 'date'] ))      # both the city and date are in ascending order"
   ]
  },
  {
   "cell_type": "code",
   "execution_count": null,
   "id": "76084d81",
   "metadata": {},
   "outputs": [],
   "source": [
    "print(data.sort_values( ['city' , 'date'] , ascending= False))      # both city and date are in descending order"
   ]
  },
  {
   "cell_type": "markdown",
   "id": "fd3f7218",
   "metadata": {},
   "source": [
    "sort city in ascending order and date in descending order"
   ]
  },
  {
   "cell_type": "code",
   "execution_count": null,
   "id": "fb725707",
   "metadata": {},
   "outputs": [],
   "source": [
    "print(data.sort_values( ['city' , 'date'] , ascending= [True ,False] ))"
   ]
  }
 ],
 "metadata": {
  "kernelspec": {
   "display_name": "campusx",
   "language": "python",
   "name": "python3"
  },
  "language_info": {
   "codemirror_mode": {
    "name": "ipython",
    "version": 3
   },
   "file_extension": ".py",
   "mimetype": "text/x-python",
   "name": "python",
   "nbconvert_exporter": "python",
   "pygments_lexer": "ipython3",
   "version": "3.13.7"
  }
 },
 "nbformat": 4,
 "nbformat_minor": 5
}
