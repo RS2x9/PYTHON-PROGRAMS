{
 "cells": [
  {
   "cell_type": "markdown",
   "id": "47d1c537",
   "metadata": {},
   "source": [
    "read_csv(\"filepath\")"
   ]
  },
  {
   "cell_type": "code",
   "execution_count": null,
   "id": "b0644977",
   "metadata": {},
   "outputs": [],
   "source": [
    "import numpy as np\n",
    "import pandas as pd\n",
    "# read_csv(\"file path\")\n",
    "# store it in variable to perform operations on it \n",
    "\n",
    "data = pd.read_csv(r\"C:\\Users\\RISHABH\\Downloads\\matches - matches.csv\")\n",
    "print(type(data) , \"\\n\")\n",
    "print(\"match data :\\n\", data)"
   ]
  },
  {
   "cell_type": "markdown",
   "id": "bfff37d7",
   "metadata": {},
   "source": [
    "head()"
   ]
  },
  {
   "cell_type": "code",
   "execution_count": null,
   "id": "d5b42abb",
   "metadata": {},
   "outputs": [],
   "source": [
    "# lec -3 \n",
    "'''\n",
    "    head() :-\n",
    "    --> if the data set is very large then printing that data like above can crash the system \n",
    "    --> head() gives initail 4-5 rows of the entire data set\n",
    "'''\n",
    "print(data.head())"
   ]
  },
  {
   "cell_type": "code",
   "execution_count": null,
   "id": "69452ec0",
   "metadata": {},
   "outputs": [],
   "source": [
    "# we can print any number of rows using head()\n",
    "print(data.head(1))"
   ]
  },
  {
   "cell_type": "markdown",
   "id": "41812e35",
   "metadata": {},
   "source": [
    "tail()"
   ]
  },
  {
   "cell_type": "code",
   "execution_count": null,
   "id": "132b5d86",
   "metadata": {},
   "outputs": [],
   "source": [
    "# tail(<number>) : fetches the specified number of rows from bottom.\n",
    "#   --> by default it fetches 5 rows \n",
    "print(data.tail(1))"
   ]
  },
  {
   "cell_type": "markdown",
   "id": "d3ce5039",
   "metadata": {},
   "source": [
    "shape"
   ]
  },
  {
   "cell_type": "code",
   "execution_count": null,
   "id": "c686b77b",
   "metadata": {},
   "outputs": [],
   "source": [
    "'''\n",
    "    shape :\n",
    "    --> it's an attribute \n",
    "    --> mainly used to check how big the data is \n",
    "    --> return the numer of rows and columns in tuple format\n",
    "    --> to fetch only rows : shape[0]\n",
    "    --> to fetch only columns : shape[1]\n",
    "'''\n",
    "print(\"data shape : \" , data.shape)\n",
    "print(\"data total rows : \" , data.shape[0])\n",
    "print(\"data total columns: \", data.shape[1])"
   ]
  },
  {
   "cell_type": "markdown",
   "id": "213c0b6f",
   "metadata": {},
   "source": [
    "info()"
   ]
  },
  {
   "cell_type": "code",
   "execution_count": null,
   "id": "a7dd2428",
   "metadata": {},
   "outputs": [],
   "source": [
    "# info() : gives preview of data \n",
    "# pandas considers strings as objects \n",
    "print(data.info())"
   ]
  },
  {
   "cell_type": "code",
   "execution_count": null,
   "id": "80f24668",
   "metadata": {},
   "outputs": [],
   "source": [
    "'''\n",
    "    --> info()  has given above :\n",
    "        --> range index: total number of rows pandas automatically decides \n",
    "        --> non-null : data there is not empty\n",
    "        --> pandas considers strings as objects\n",
    "        --> dtypes :\n",
    "            --> 1 value has float64 dtype\n",
    "            --> 5 values have 5 int64 dtype\n",
    "            --> 12 values have object dtype\n",
    "        --> memory usage info is also given \n",
    "'''"
   ]
  },
  {
   "cell_type": "markdown",
   "id": "2af3b95e",
   "metadata": {},
   "source": [
    "describe()"
   ]
  },
  {
   "cell_type": "code",
   "execution_count": null,
   "id": "b8711b87",
   "metadata": {},
   "outputs": [],
   "source": [
    "# describe() : returns only rows which are entirely filled with numerical data\n",
    "print(data.describe())"
   ]
  },
  {
   "cell_type": "markdown",
   "id": "08f49913",
   "metadata": {},
   "source": [
    "FETCHING COLUMNS "
   ]
  },
  {
   "cell_type": "code",
   "execution_count": null,
   "id": "9bd7ec4a",
   "metadata": {},
   "outputs": [],
   "source": [
    "# lec-4 \n",
    "'''\n",
    "    <data name>['<coloumn name> ] : fetches this column\n",
    "        --> required to get info of specific columns \n",
    "        --> may be some coloumns in data may not be so important for analysis \n",
    "        --> this same thing holds true for rows also\n",
    "        --> the result is series :\n",
    "            --> index : by default it's autogrnerated , can be manually generated also\n",
    "            --> values : this is the info of the fetched coloumn\n",
    "'''\n",
    "\n",
    "print(data['winner'])\n",
    "print(\"\\ntype of one coloumn: \", type(data['winner']))"
   ]
  },
  {
   "cell_type": "markdown",
   "id": "1ba594f4",
   "metadata": {},
   "source": [
    "FETCHING MULTIPLE COLUMNS"
   ]
  },
  {
   "cell_type": "code",
   "execution_count": null,
   "id": "ebf26457",
   "metadata": {},
   "outputs": [],
   "source": [
    "# fetching more than one cloumn\n",
    "print(data[ ['team1' , 'team2' , 'winner']])\n",
    "print(\"\\n shape: \" , data[ [ 'team1' , 'team2' , 'winner']].shape)\n",
    "print(\"\\n datatype of multiple coloumns: \", type(data[ [ 'team1' , 'team2' , 'winner']]))"
   ]
  },
  {
   "cell_type": "markdown",
   "id": "33569dc2",
   "metadata": {},
   "source": [
    "FETCHNG ROW"
   ]
  },
  {
   "cell_type": "code",
   "execution_count": null,
   "id": "f45ddeb7",
   "metadata": {},
   "outputs": [],
   "source": [
    "# iloc[row number] : fetching specific rows\n",
    "print(data.iloc[0])  #  fetches the first row "
   ]
  },
  {
   "cell_type": "markdown",
   "id": "e130c02e",
   "metadata": {},
   "source": [
    "FETCHING MULTIPLE ROWS "
   ]
  },
  {
   "cell_type": "code",
   "execution_count": null,
   "id": "bf41f19d",
   "metadata": {},
   "outputs": [],
   "source": [
    "# to fetch multiple rows , give the rows in the form of list\n",
    "print(data.iloc[ [0,1,2]])"
   ]
  },
  {
   "cell_type": "markdown",
   "id": "63b0d033",
   "metadata": {},
   "source": [
    "SLICING IN iloc"
   ]
  },
  {
   "cell_type": "code",
   "execution_count": null,
   "id": "e92c81d0",
   "metadata": {},
   "outputs": [],
   "source": [
    "print(data.iloc[1:4])    # 4-1 =3rd coloumn will be included \n",
    "print(\"\\n datatype of multiple rows : \" , type(data.iloc[1:4]))"
   ]
  },
  {
   "cell_type": "markdown",
   "id": "5a497a4c",
   "metadata": {},
   "source": [
    "SLICING IN ALTERNATE MANNER "
   ]
  },
  {
   "cell_type": "code",
   "execution_count": null,
   "id": "cea0c088",
   "metadata": {},
   "outputs": [],
   "source": [
    "print(data.iloc[1:10:3])"
   ]
  },
  {
   "cell_type": "markdown",
   "id": "6c855704",
   "metadata": {},
   "source": [
    "FETCHING COLOUMNS USING iloc[]"
   ]
  },
  {
   "cell_type": "code",
   "execution_count": null,
   "id": "acc137a6",
   "metadata": {},
   "outputs": [],
   "source": [
    "'''\n",
    "    <dataname variable>.iloc[ <row info> , <coloumn info> ]\n",
    "'''\n",
    "print( data.iloc[ : , [4,5,10]])     # if semicolon is used the all the rows will get printed "
   ]
  },
  {
   "cell_type": "markdown",
   "id": "9aec0027",
   "metadata": {},
   "source": [
    "PRINTING SPECIFIC ROWS AND COLOUMNS "
   ]
  },
  {
   "cell_type": "code",
   "execution_count": null,
   "id": "5c48f47b",
   "metadata": {},
   "outputs": [],
   "source": [
    "print( data.iloc[ 1:3 , [1,3,5] ] )     # in the row : dont't use like []"
   ]
  }
 ],
 "metadata": {
  "kernelspec": {
   "display_name": "campusx",
   "language": "python",
   "name": "python3"
  },
  "language_info": {
   "codemirror_mode": {
    "name": "ipython",
    "version": 3
   },
   "file_extension": ".py",
   "mimetype": "text/x-python",
   "name": "python",
   "nbconvert_exporter": "python",
   "pygments_lexer": "ipython3",
   "version": "3.13.7"
  }
 },
 "nbformat": 4,
 "nbformat_minor": 5
}
