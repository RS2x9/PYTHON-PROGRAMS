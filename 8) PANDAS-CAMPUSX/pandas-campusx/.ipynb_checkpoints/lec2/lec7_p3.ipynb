{
 "cells": [
  {
   "cell_type": "markdown",
   "id": "512a2a74",
   "metadata": {},
   "source": [
    "The plot function"
   ]
  },
  {
   "cell_type": "code",
   "execution_count": null,
   "id": "4cf6ea87",
   "metadata": {},
   "outputs": [],
   "source": [
    "import pandas as pd \n",
    "import matplotlib.pyplot as plt\n",
    "data = pd.read_csv(r\"C:\\Users\\RISHABH\\Downloads\\matches - matches.csv\")\n",
    "print(data)"
   ]
  },
  {
   "cell_type": "code",
   "execution_count": null,
   "id": "0dd4b2ed",
   "metadata": {},
   "outputs": [],
   "source": [
    "# plotting bar chart\n",
    "x= data['winner'].value_counts()\n",
    "x.plot(kind='bar')\n",
    "plt.xlabel(\"team name\")\n",
    "plt.ylabel(\"number of wins\")\n",
    "plt.show()"
   ]
  },
  {
   "cell_type": "markdown",
   "id": "59eabc31",
   "metadata": {},
   "source": [
    "plotting for top 5 teams "
   ]
  },
  {
   "cell_type": "code",
   "execution_count": null,
   "id": "8373e77f",
   "metadata": {},
   "outputs": [],
   "source": [
    "y= data['winner'].value_counts().head(5)\n",
    "y.plot(kind='bar' , width=0.27 , color='g')\n",
    "plt.xlabel(\"team name ----->\")\n",
    "plt.ylabel(\"number of wins ----->\")\n",
    "plt.show()"
   ]
  },
  {
   "cell_type": "markdown",
   "id": "7aea3e46",
   "metadata": {},
   "source": [
    "to flip the x, y axis , use kind = 'barh'"
   ]
  },
  {
   "cell_type": "code",
   "execution_count": null,
   "id": "9a136eba",
   "metadata": {},
   "outputs": [],
   "source": [
    "y.plot(kind= 'barh' , width = 0.35 , color='r')\n",
    "plt.xlabel(\"number of matches won --->\")\n",
    "plt.ylabel(\"Top 5 teams ---->\")\n",
    "plt.show()"
   ]
  },
  {
   "cell_type": "markdown",
   "id": "acd86c71",
   "metadata": {},
   "source": [
    "plotting pie chart "
   ]
  },
  {
   "cell_type": "code",
   "execution_count": null,
   "id": "38895726",
   "metadata": {},
   "outputs": [],
   "source": [
    "# using toss_decision coloumn\n",
    "x= data['toss_decision'].value_counts()\n",
    "x.plot(kind='pie' , colors= ['r', 'g'])\n",
    "plt.title(\"toss_decision : \\n\")\n",
    "plt.show()"
   ]
  },
  {
   "cell_type": "markdown",
   "id": "045b4389",
   "metadata": {},
   "source": [
    "Plotting histogram :\n",
    "\n",
    "        --> used to plot numerical data"
   ]
  },
  {
   "cell_type": "code",
   "execution_count": null,
   "id": "1f783534",
   "metadata": {},
   "outputs": [],
   "source": [
    "x= data['win_by_runs']\n",
    "x.plot(kind='hist' , color='g')\n",
    "plt.xlabel(\"\\n ranges of run margins\")\n",
    "plt.ylabel(\"count of matches in each range\\n\")\n",
    "plt.show()"
   ]
  }
 ],
 "metadata": {
  "kernelspec": {
   "display_name": "campusx",
   "language": "python",
   "name": "python3"
  },
  "language_info": {
   "codemirror_mode": {
    "name": "ipython",
    "version": 3
   },
   "file_extension": ".py",
   "mimetype": "text/x-python",
   "name": "python",
   "nbconvert_exporter": "python",
   "pygments_lexer": "ipython3",
   "version": "3.13.7"
  }
 },
 "nbformat": 4,
 "nbformat_minor": 5
}
