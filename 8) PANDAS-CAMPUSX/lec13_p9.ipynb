{
 "cells": [
  {
   "cell_type": "markdown",
   "id": "bf2139ac",
   "metadata": {},
   "source": [
    "Lec 13 : isin()\n",
    "\n",
    "problem: find the most descructive death of batsman in the history of IPL:\n",
    "\n",
    "it means which batsman has scored the most in the last 5 overs in IPL history.\n",
    "\n",
    "This is decided on the basis of strike rate.\n",
    "\n",
    "also minimum ball player should have played is  200 in 16-20 overs(know as death over)\n",
    "\n",
    "strike rate= runs scored *100 / balls played"
   ]
  },
  {
   "cell_type": "markdown",
   "id": "340d22a7",
   "metadata": {},
   "source": [
    "method-1 : my logic"
   ]
  },
  {
   "cell_type": "code",
   "execution_count": null,
   "id": "5e95b6b8",
   "metadata": {},
   "outputs": [],
   "source": [
    "import pandas as pd \n",
    "data = pd.read_csv(r\"D:\\delivery-matches\\deliveries.csv\")\n",
    "data\n"
   ]
  },
  {
   "cell_type": "code",
   "execution_count": null,
   "id": "7d491af2",
   "metadata": {},
   "outputs": [],
   "source": [
    "print(\"total balls played in ipl history\" , end=':')\n",
    "data.shape[0]"
   ]
  },
  {
   "cell_type": "markdown",
   "id": "5376e06c",
   "metadata": {},
   "source": [
    "taking data from death overs"
   ]
  },
  {
   "cell_type": "code",
   "execution_count": null,
   "id": "be596728",
   "metadata": {},
   "outputs": [],
   "source": [
    "mask = data['over']>15\n",
    "death_over= data[mask]\n",
    "death_over"
   ]
  },
  {
   "cell_type": "markdown",
   "id": "ddf597ea",
   "metadata": {},
   "source": [
    "sort_index()  : sorts alphabetically"
   ]
  },
  {
   "cell_type": "code",
   "execution_count": null,
   "id": "decb5422",
   "metadata": {},
   "outputs": [],
   "source": [
    "x= death_over.groupby('batsman')\n",
    "x.size()     # this gives total number number of  rows associated with each batsman\n",
    "a = x.size().sort_index()\n",
    "a"
   ]
  },
  {
   "cell_type": "markdown",
   "id": "2aec3847",
   "metadata": {},
   "source": [
    "fetching who batsman played more than 200 balls in death overs"
   ]
  },
  {
   "cell_type": "code",
   "execution_count": null,
   "id": "c06af3bd",
   "metadata": {},
   "outputs": [],
   "source": [
    "mask2 = a>=200           #masking \n",
    "balls_200 = a[mask2]          # batsman who played >= 200 balls\n",
    "balls_200  "
   ]
  },
  {
   "cell_type": "markdown",
   "id": "4e5170c9",
   "metadata": {},
   "source": [
    "calculating runs scored in death_overs and played 200 + balls "
   ]
  },
  {
   "cell_type": "code",
   "execution_count": null,
   "metadata": {},
   "outputs": [],
   "source": [
    "runs = death_over.groupby('batsman')['batsman_runs'].sum()\n",
    "runs_200 = runs[mask2].sort_index()     # runs scored who played >=200 balls\n",
    "runs_200"
   ]
  },
  {
   "cell_type": "code",
   "execution_count": null,
   "id": "be6c91a4",
   "metadata": {},
   "outputs": [],
   "source": [
    "strike_rate= (balls_200*100)/runs_200\n",
    "strike_rate"
   ]
  },
  {
   "cell_type": "code",
   "execution_count": null,
   "id": "feeb479e",
   "metadata": {},
   "outputs": [],
   "source": [
    "strike_rate_200 = strike_rate.sort_values(ascending = False)\n",
    "print(\"Strike rate of  the batsman played more than 200 balls: \")\n",
    "strike_rate_200"
   ]
  },
  {
   "cell_type": "code",
   "execution_count": null,
   "id": "b83d4ad2",
   "metadata": {},
   "outputs": [],
   "source": [
    "print(\"Max strike rate :\")\n",
    "strike_rate_200.head(1)"
   ]
  },
  {
   "cell_type": "markdown",
   "id": "e0d4de29",
   "metadata": {},
   "source": [
    "method-2 : chat gpt"
   ]
  },
  {
   "cell_type": "code",
   "execution_count": null,
   "id": "1adc69ec",
   "metadata": {},
   "outputs": [],
   "source": [
    "import pandas as pd\n",
    "data = pd.read_csv(r\"D:\\delivery-matches\\deliveries.csv\")\n",
    "\n",
    "# Filter for death overs (16-20)\n",
    "death_over = data[data['over'] > 15]\n",
    "death_over"
   ]
  },
  {
   "cell_type": "code",
   "execution_count": null,
   "id": "9988697c",
   "metadata": {},
   "outputs": [],
   "source": [
    "# Count balls played by each batsman in death overs\n",
    "balls_played = death_over.groupby('batsman').size().sort_index()\n",
    "balls_played"
   ]
  },
  {
   "cell_type": "code",
   "execution_count": null,
   "id": "68b85873",
   "metadata": {},
   "outputs": [],
   "source": [
    "# Get batsmen who played at least 200 balls\n",
    "batsmen_200 = balls_played[balls_played >= 200].index\n",
    "batsmen_200"
   ]
  },
  {
   "cell_type": "code",
   "execution_count": null,
   "id": "60eae489",
   "metadata": {},
   "outputs": [],
   "source": [
    "# Use isin() to filter death_over for only those batsmen\n",
    "death_over_200 = death_over[death_over['batsman'].isin(batsmen_200)]\n",
    "death_over_200"
   ]
  },
  {
   "cell_type": "code",
   "execution_count": null,
   "id": "f4255f10",
   "metadata": {},
   "outputs": [],
   "source": [
    "# Calculate total runs scored in death overs by these batsmen\n",
    "runs_200 = death_over_200.groupby('batsman')['batsman_runs'].sum().sort_index()\n",
    "runs_200"
   ]
  },
  {
   "cell_type": "code",
   "execution_count": null,
   "id": "2abef157",
   "metadata": {},
   "outputs": [],
   "source": [
    "# Balls played (already sorted by index)\n",
    "balls_200 = balls_played[balls_played.index.isin(batsmen_200)]\n",
    "balls_200"
   ]
  },
  {
   "cell_type": "code",
   "execution_count": null,
   "id": "4ec9b0ee",
   "metadata": {},
   "outputs": [],
   "source": [
    "# Calculate strike rate\n",
    "strike_rate = (runs_200 * 100) / balls_200\n",
    "strike_rate"
   ]
  },
  {
   "cell_type": "code",
   "execution_count": null,
   "id": "2b6731c5",
   "metadata": {},
   "outputs": [],
   "source": [
    "# Sort by strike rate descending\n",
    "strike_rate_200 = strike_rate.sort_values(ascending=False)\n",
    "strike_rate_200"
   ]
  },
  {
   "cell_type": "code",
   "execution_count": null,
   "id": "7faa3e0a",
   "metadata": {},
   "outputs": [],
   "source": [
    "print(\"Strike rate of the batsman played more than 200 balls:\")\n",
    "print(strike_rate_200)"
   ]
  },
  {
   "cell_type": "code",
   "execution_count": null,
   "id": "da7af9fe",
   "metadata": {},
   "outputs": [],
   "source": [
    "print(\"\\nMax strike rate :\")\n",
    "print(strike_rate_200.head(1))"
   ]
  }
 ],
 "metadata": {
  "kernelspec": {
   "display_name": "campusx",
   "language": "python",
   "name": "python3"
  },
  "language_info": {
   "codemirror_mode": {
    "name": "ipython",
    "version": 3
   },
   "file_extension": ".py",
   "mimetype": "text/x-python",
   "name": "python",
   "nbconvert_exporter": "python",
   "pygments_lexer": "ipython3",
   "version": "3.13.7"
  }
 },
 "nbformat": 4,
 "nbformat_minor": 5
}
